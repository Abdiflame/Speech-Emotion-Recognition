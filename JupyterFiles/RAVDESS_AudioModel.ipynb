{
 "cells": [
  {
   "cell_type": "markdown",
   "metadata": {},
   "source": [
    "# Speech Emotion Recognition CNN (using MFCC features)\n",
    "### RAVDESS Dataset\n",
    "### Made by LuisFraga\n",
    "### January, 2020"
   ]
  },
  {
   "cell_type": "code",
   "execution_count": 1,
   "metadata": {},
   "outputs": [
    {
     "name": "stdout",
     "output_type": "stream",
     "text": [
      "Once deleted, variables cannot be recovered. Proceed (y/[n])? y\n"
     ]
    }
   ],
   "source": [
    "import gc\n",
    "gc.collect()\n",
    "%reset"
   ]
  },
  {
   "cell_type": "code",
   "execution_count": 2,
   "metadata": {},
   "outputs": [],
   "source": [
    "# import soundfile # to read audio file\n",
    "import numpy as np\n",
    "import librosa # to extract speech features\n",
    "import glob, os\n",
    "import pandas as pd\n",
    "import pickle # to save model after training\n",
    "from sklearn.model_selection import train_test_split"
   ]
  },
  {
   "cell_type": "markdown",
   "metadata": {},
   "source": [
    "## Extract Speech Features (MFCC)"
   ]
  },
  {
   "cell_type": "code",
   "execution_count": 3,
   "metadata": {},
   "outputs": [],
   "source": [
    "def extract_features(file_path):\n",
    "    max_pad_len = 300\n",
    "    try:\n",
    "        audio, sample_rate = librosa.load(file_path, res_type='kaiser_fast')        \n",
    "        mfccs = librosa.feature.mfcc(y=audio, sr=sample_rate, n_mfcc=40)\n",
    "    \n",
    "        shape = mfccs.shape[1]\n",
    "                     \n",
    "        if max_pad_len > mfccs.shape[1]:\n",
    "            pad_width = max_pad_len - mfccs.shape[1]\n",
    "            mfccs = np.pad(mfccs, pad_width=((0, 0), (0, pad_width)), mode='constant')\n",
    "\n",
    "        else:\n",
    "            mfccs = mfccs[:, :max_pad_len]\n",
    "            \n",
    "    except Exception as e:\n",
    "        print(\"Error encountered while parsing file: \", file_path)\n",
    "        mfccs = \"error\"\n",
    "        return mfccs\n",
    "        \n",
    "    return mfccs"
   ]
  },
  {
   "cell_type": "markdown",
   "metadata": {},
   "source": [
    "## Data Augmentation"
   ]
  },
  {
   "cell_type": "code",
   "execution_count": null,
   "metadata": {},
   "outputs": [],
   "source": [
    "import random\n",
    "\n",
    "def noise_aug(data, noise_factor):\n",
    "    noise = np.random.randn(len(data))\n",
    "    augmented_data = data + noise_factor * noise\n",
    "    augmented_data = augmented_data.astype(type(data[0]))\n",
    "    return augmented_data\n",
    "\n",
    "def pitch_aug(data, sampling_rate, pitch_factor):\n",
    "    return librosa.effects.pitch_shift(data, sampling_rate, pitch_factor)\n",
    "\n",
    "def speed_aug(data, speed_factor):\n",
    "    return librosa.effects.time_stretch(data, speed_factor)\n",
    "    \n",
    "def extract_feat(X, sample_rate):\n",
    "    max_pad_len = 300\n",
    "    try:  \n",
    "        mfccs = librosa.feature.mfcc(y=X, sr=sample_rate, n_mfcc=40)    \n",
    "        shape = mfccs.shape[1]\n",
    "                     \n",
    "        if max_pad_len > mfccs.shape[1]:\n",
    "            pad_width = max_pad_len - mfccs.shape[1]\n",
    "            mfccs = np.pad(mfccs, pad_width=((0, 0), (0, pad_width)), mode='constant')\n",
    "\n",
    "        else:\n",
    "            mfccs = mfccs[:, :max_pad_len]\n",
    "            \n",
    "    except Exception as e:\n",
    "        print(\"Error encountered while parsing file: \", file_path)\n",
    "        mfccs = \"error\"\n",
    "        return mfccs\n",
    "    \n",
    "    return mfccs\n",
    "\n",
    "def data_augmented():\n",
    "    X, y = [], []\n",
    "    i = 0\n",
    "    for file in glob.glob(\"dataset/Actor_*/*.wav\"):\n",
    "        basename = os.path.basename(file)\n",
    "        print(\"File:\", i+1)\n",
    "        i += 1\n",
    "        emotion = int2emotion[basename.split(\"-\")[2]]\n",
    "        if emotion not in AVAILABLE_EMOTIONS:\n",
    "            continue\n",
    "       \n",
    "        audio, sample_rate = librosa.load(file, res_type='kaiser_fast')\n",
    "        noise = noise_aug(audio, random.uniform(-0.25,0.25)) \n",
    "        pitch = pitch_aug(audio, sample_rate, random.uniform(-0.25,0.25)) \n",
    "        speed = speed_aug(audio, random.uniform(0.75, 1.25))\n",
    "        \n",
    "        ### Extract Feat\n",
    "        features = extract_feat(audio, sample_rate)\n",
    "        X.append(features)\n",
    "        y.append(emotion)\n",
    "        \n",
    "        features = extract_feat(noise, sample_rate)\n",
    "        X.append(features)\n",
    "        y.append(emotion)\n",
    "        \n",
    "        features = extract_feat(pitch, sample_rate)\n",
    "        X.append(features)\n",
    "        y.append(emotion)\n",
    "        \n",
    "        features = extract_feat(speed, sample_rate)\n",
    "        X.append(features)\n",
    "        y.append(emotion)\n",
    "        \n",
    "    return np.array(X), y"
   ]
  },
  {
   "cell_type": "markdown",
   "metadata": {},
   "source": [
    "## Load Dataset + Features"
   ]
  },
  {
   "cell_type": "code",
   "execution_count": 4,
   "metadata": {
    "scrolled": true
   },
   "outputs": [],
   "source": [
    "### Dataset available emotions\n",
    "int2emotion = {\n",
    "    \"01\": \"neutral\",\n",
    "    \"02\": \"calm\",\n",
    "    \"03\": \"happy\",\n",
    "    \"04\": \"sad\",\n",
    "    \"05\": \"angry\",\n",
    "    \"06\": \"fearful\",\n",
    "    \"07\": \"disgust\",\n",
    "    \"08\": \"surprised\"\n",
    "}\n",
    "\n",
    "### Emotions that we gonna use\n",
    "AVAILABLE_EMOTIONS = {\n",
    "    \"angry\",\n",
    "    \"sad\",\n",
    "    \"neutral\",\n",
    "    \"happy\",\n",
    "    \"calm\"\n",
    "}\n",
    "\n",
    "def load_data():\n",
    "    X, y = [], []\n",
    "    for file in glob.glob(\"dataset/Actor_*/*.wav\"):\n",
    "        basename = os.path.basename(file)\n",
    "        emotion = int2emotion[basename.split(\"-\")[2]]\n",
    "        if emotion not in AVAILABLE_EMOTIONS:\n",
    "            continue\n",
    "        features = extract_features(file)\n",
    "\n",
    "        if emotion == \"calm\":\n",
    "            emotion = \"neutral\"\n",
    "\n",
    "        X.append(features)\n",
    "        y.append(emotion)\n",
    "\n",
    "    return np.array(X), y\n",
    "\n",
    "X, y = load_data()"
   ]
  },
  {
   "cell_type": "markdown",
   "metadata": {},
   "source": [
    "## Prepare Train/Test Data"
   ]
  },
  {
   "cell_type": "code",
   "execution_count": 5,
   "metadata": {},
   "outputs": [
    {
     "data": {
      "image/png": "[encoded data removed]",
      "text/plain": [
       "<Figure size 432x288 with 1 Axes>"
      ]
     },
     "metadata": {
      "needs_background": "light"
     },
     "output_type": "display_data"
    }
   ],
   "source": [
    "import matplotlib.pyplot as plt\n",
    "plt.hist(y)\n",
    "plt.show()"
   ]
  },
  {
   "cell_type": "code",
   "execution_count": 6,
   "metadata": {
    "scrolled": true
   },
   "outputs": [
    {
     "name": "stderr",
     "output_type": "stream",
     "text": [
      "Using TensorFlow backend.\n"
     ]
    },
    {
     "name": "stdout",
     "output_type": "stream",
     "text": [
      "(>^.^)> X_train shape: (691, 40, 300, 1)\n",
      "(>^.^)> y_train shape: (691, 4)\n"
     ]
    }
   ],
   "source": [
    "from keras.utils import np_utils\n",
    "from sklearn.preprocessing import LabelEncoder\n",
    "\n",
    "\n",
    "lb = LabelEncoder()\n",
    "y_cat = np_utils.to_categorical(lb.fit_transform(y))\n",
    "\n",
    "X_train, X_test, y_train, y_test, Y_train, Y_test = train_test_split(np.array(X), y_cat, y, test_size = 0.20)\n",
    "X_train = np.expand_dims(X_train, axis=3)\n",
    "X_test = np.expand_dims(X_test, axis=3)\n",
    "\n",
    "print(\"(>^.^)> X_train shape:\", X_train.shape)\n",
    "print(\"(>^.^)> y_train shape:\", y_train.shape)"
   ]
  },
  {
   "cell_type": "markdown",
   "metadata": {},
   "source": [
    "## Abdi CNN"
   ]
  },
  {
   "cell_type": "code",
   "execution_count": 7,
   "metadata": {
    "scrolled": true
   },
   "outputs": [
    {
     "name": "stdout",
     "output_type": "stream",
     "text": [
      "Model: \"sequential_1\"\n",
      "_________________________________________________________________\n",
      "Layer (type)                 Output Shape              Param #   \n",
      "=================================================================\n",
      "conv2d_1 (Conv2D)            (None, 40, 300, 128)      1280      \n",
      "_________________________________________________________________\n",
      "activation_1 (Activation)    (None, 40, 300, 128)      0         \n",
      "_________________________________________________________________\n",
      "batch_normalization_1 (Batch (None, 40, 300, 128)      512       \n",
      "_________________________________________________________________\n",
      "max_pooling2d_1 (MaxPooling2 (None, 13, 100, 128)      0         \n",
      "_________________________________________________________________\n",
      "dropout_1 (Dropout)          (None, 13, 100, 128)      0         \n",
      "_________________________________________________________________\n",
      "conv2d_2 (Conv2D)            (None, 13, 100, 256)      295168    \n",
      "_________________________________________________________________\n",
      "activation_2 (Activation)    (None, 13, 100, 256)      0         \n",
      "_________________________________________________________________\n",
      "batch_normalization_2 (Batch (None, 13, 100, 256)      1024      \n",
      "_________________________________________________________________\n",
      "conv2d_3 (Conv2D)            (None, 13, 100, 256)      590080    \n",
      "_________________________________________________________________\n",
      "activation_3 (Activation)    (None, 13, 100, 256)      0         \n",
      "_________________________________________________________________\n",
      "batch_normalization_3 (Batch (None, 13, 100, 256)      1024      \n",
      "_________________________________________________________________\n",
      "max_pooling2d_2 (MaxPooling2 (None, 6, 50, 256)        0         \n",
      "_________________________________________________________________\n",
      "dropout_2 (Dropout)          (None, 6, 50, 256)        0         \n",
      "_________________________________________________________________\n",
      "flatten_1 (Flatten)          (None, 76800)             0         \n",
      "_________________________________________________________________\n",
      "dense_1 (Dense)              (None, 128)               9830528   \n",
      "_________________________________________________________________\n",
      "activation_4 (Activation)    (None, 128)               0         \n",
      "_________________________________________________________________\n",
      "batch_normalization_4 (Batch (None, 128)               512       \n",
      "_________________________________________________________________\n",
      "dropout_3 (Dropout)          (None, 128)               0         \n",
      "_________________________________________________________________\n",
      "dense_2 (Dense)              (None, 4)                 516       \n",
      "_________________________________________________________________\n",
      "activation_5 (Activation)    (None, 4)                 0         \n",
      "=================================================================\n",
      "Total params: 10,720,644\n",
      "Trainable params: 10,719,108\n",
      "Non-trainable params: 1,536\n",
      "_________________________________________________________________\n",
      "Train on 691 samples, validate on 173 samples\n",
      "Epoch 1/50\n",
      "691/691 [==============================] - 8s 12ms/step - loss: 1.6659 - accuracy: 0.4284 - val_loss: 10.6061 - val_accuracy: 0.3353\n",
      "Epoch 2/50\n",
      "691/691 [==============================] - 2s 3ms/step - loss: 1.1298 - accuracy: 0.5412 - val_loss: 6.4592 - val_accuracy: 0.3353\n",
      "Epoch 3/50\n",
      "691/691 [==============================] - 2s 3ms/step - loss: 0.9558 - accuracy: 0.6136 - val_loss: 3.2644 - val_accuracy: 0.3410\n",
      "Epoch 4/50\n",
      "691/691 [==============================] - 2s 3ms/step - loss: 0.8364 - accuracy: 0.6585 - val_loss: 1.8374 - val_accuracy: 0.3873\n",
      "Epoch 5/50\n",
      "691/691 [==============================] - 2s 3ms/step - loss: 0.7782 - accuracy: 0.6657 - val_loss: 1.6715 - val_accuracy: 0.4913\n",
      "Epoch 6/50\n",
      "691/691 [==============================] - 3s 4ms/step - loss: 0.7205 - accuracy: 0.6990 - val_loss: 1.6398 - val_accuracy: 0.4971\n",
      "Epoch 7/50\n",
      "691/691 [==============================] - 2s 3ms/step - loss: 0.5958 - accuracy: 0.7467 - val_loss: 0.9250 - val_accuracy: 0.6069\n",
      "Epoch 8/50\n",
      "691/691 [==============================] - 2s 4ms/step - loss: 0.5883 - accuracy: 0.7627 - val_loss: 0.8891 - val_accuracy: 0.6532\n",
      "Epoch 9/50\n",
      "691/691 [==============================] - 3s 4ms/step - loss: 0.4895 - accuracy: 0.8104 - val_loss: 0.8676 - val_accuracy: 0.6705\n",
      "Epoch 10/50\n",
      "691/691 [==============================] - 2s 3ms/step - loss: 0.4532 - accuracy: 0.8278 - val_loss: 0.7537 - val_accuracy: 0.7168\n",
      "Epoch 11/50\n",
      "691/691 [==============================] - 2s 3ms/step - loss: 0.4791 - accuracy: 0.8104 - val_loss: 0.7190 - val_accuracy: 0.7225\n",
      "Epoch 12/50\n",
      "691/691 [==============================] - 2s 3ms/step - loss: 0.3846 - accuracy: 0.8625 - val_loss: 0.7891 - val_accuracy: 0.7283\n",
      "Epoch 13/50\n",
      "691/691 [==============================] - 2s 3ms/step - loss: 0.3699 - accuracy: 0.8640 - val_loss: 0.8714 - val_accuracy: 0.6012\n",
      "Epoch 14/50\n",
      "691/691 [==============================] - 2s 3ms/step - loss: 0.3181 - accuracy: 0.8871 - val_loss: 1.3058 - val_accuracy: 0.4971\n",
      "Epoch 15/50\n",
      "691/691 [==============================] - 2s 3ms/step - loss: 0.3034 - accuracy: 0.8842 - val_loss: 0.6237 - val_accuracy: 0.7457\n",
      "Epoch 16/50\n",
      "691/691 [==============================] - 3s 4ms/step - loss: 0.2841 - accuracy: 0.8900 - val_loss: 0.6049 - val_accuracy: 0.7861\n",
      "Epoch 17/50\n",
      "691/691 [==============================] - 2s 4ms/step - loss: 0.2802 - accuracy: 0.9001 - val_loss: 0.7089 - val_accuracy: 0.7052\n",
      "Epoch 18/50\n",
      "691/691 [==============================] - 2s 3ms/step - loss: 0.2232 - accuracy: 0.9219 - val_loss: 0.6674 - val_accuracy: 0.7110\n",
      "Epoch 19/50\n",
      "691/691 [==============================] - 2s 3ms/step - loss: 0.2075 - accuracy: 0.9247 - val_loss: 0.6959 - val_accuracy: 0.7283\n",
      "Epoch 20/50\n",
      "691/691 [==============================] - 3s 4ms/step - loss: 0.1869 - accuracy: 0.9407 - val_loss: 0.7224 - val_accuracy: 0.7341\n",
      "Epoch 21/50\n",
      "691/691 [==============================] - 2s 4ms/step - loss: 0.1747 - accuracy: 0.9436 - val_loss: 0.5604 - val_accuracy: 0.7399\n",
      "Epoch 22/50\n",
      "691/691 [==============================] - 2s 4ms/step - loss: 0.1724 - accuracy: 0.9436 - val_loss: 0.6363 - val_accuracy: 0.7168\n",
      "Epoch 23/50\n",
      "691/691 [==============================] - 3s 4ms/step - loss: 0.1505 - accuracy: 0.9609 - val_loss: 0.7495 - val_accuracy: 0.7110\n",
      "Epoch 24/50\n",
      "691/691 [==============================] - 2s 4ms/step - loss: 0.1545 - accuracy: 0.9436 - val_loss: 0.6429 - val_accuracy: 0.7341\n",
      "Epoch 25/50\n",
      "691/691 [==============================] - 2s 3ms/step - loss: 0.1218 - accuracy: 0.9667 - val_loss: 0.5987 - val_accuracy: 0.7572\n",
      "Epoch 26/50\n",
      "691/691 [==============================] - 2s 3ms/step - loss: 0.1158 - accuracy: 0.9609 - val_loss: 0.6019 - val_accuracy: 0.8035\n",
      "Epoch 27/50\n",
      "691/691 [==============================] - 2s 3ms/step - loss: 0.1092 - accuracy: 0.9667 - val_loss: 0.7095 - val_accuracy: 0.7341\n",
      "Epoch 28/50\n",
      "691/691 [==============================] - 2s 3ms/step - loss: 0.1047 - accuracy: 0.9682 - val_loss: 0.7413 - val_accuracy: 0.7052\n",
      "Epoch 29/50\n",
      "691/691 [==============================] - 2s 4ms/step - loss: 0.0947 - accuracy: 0.9797 - val_loss: 0.5983 - val_accuracy: 0.7861\n",
      "Epoch 30/50\n",
      "691/691 [==============================] - 3s 4ms/step - loss: 0.1043 - accuracy: 0.9682 - val_loss: 0.5861 - val_accuracy: 0.7803\n",
      "Epoch 31/50\n",
      "691/691 [==============================] - 2s 3ms/step - loss: 0.0852 - accuracy: 0.9812 - val_loss: 0.5893 - val_accuracy: 0.7919\n",
      "Epoch 32/50\n",
      "691/691 [==============================] - 2s 3ms/step - loss: 0.0874 - accuracy: 0.9812 - val_loss: 0.5863 - val_accuracy: 0.7688\n",
      "Epoch 33/50\n",
      "691/691 [==============================] - 2s 3ms/step - loss: 0.0885 - accuracy: 0.9797 - val_loss: 0.5621 - val_accuracy: 0.7803\n",
      "Epoch 34/50\n",
      "691/691 [==============================] - 2s 3ms/step - loss: 0.0775 - accuracy: 0.9899 - val_loss: 0.5951 - val_accuracy: 0.7919\n",
      "Epoch 35/50\n",
      "691/691 [==============================] - 2s 3ms/step - loss: 0.0699 - accuracy: 0.9841 - val_loss: 0.5799 - val_accuracy: 0.7861\n",
      "Epoch 36/50\n",
      "691/691 [==============================] - 2s 3ms/step - loss: 0.0823 - accuracy: 0.9841 - val_loss: 0.5648 - val_accuracy: 0.7861\n"
     ]
    },
    {
     "name": "stdout",
     "output_type": "stream",
     "text": [
      "Epoch 37/50\n",
      "691/691 [==============================] - 2s 3ms/step - loss: 0.0677 - accuracy: 0.9855 - val_loss: 0.5587 - val_accuracy: 0.7861\n",
      "Epoch 38/50\n",
      "691/691 [==============================] - 2s 3ms/step - loss: 0.0525 - accuracy: 0.9928 - val_loss: 0.5956 - val_accuracy: 0.7746\n",
      "Epoch 39/50\n",
      "691/691 [==============================] - 2s 3ms/step - loss: 0.0508 - accuracy: 0.9928 - val_loss: 0.5792 - val_accuracy: 0.7746\n",
      "Epoch 40/50\n",
      "691/691 [==============================] - 3s 4ms/step - loss: 0.0607 - accuracy: 0.9942 - val_loss: 0.5701 - val_accuracy: 0.7688\n",
      "Epoch 41/50\n",
      "691/691 [==============================] - 3s 4ms/step - loss: 0.0546 - accuracy: 0.9942 - val_loss: 0.5365 - val_accuracy: 0.7919\n",
      "Epoch 42/50\n",
      "691/691 [==============================] - 2s 4ms/step - loss: 0.0498 - accuracy: 0.9899 - val_loss: 0.6731 - val_accuracy: 0.7861\n",
      "Epoch 43/50\n",
      "691/691 [==============================] - 2s 3ms/step - loss: 0.0504 - accuracy: 0.9942 - val_loss: 0.5864 - val_accuracy: 0.7861\n",
      "Epoch 44/50\n",
      "691/691 [==============================] - 2s 3ms/step - loss: 0.0660 - accuracy: 0.9870 - val_loss: 0.7542 - val_accuracy: 0.7052\n",
      "Epoch 45/50\n",
      "691/691 [==============================] - 2s 4ms/step - loss: 0.0545 - accuracy: 0.9913 - val_loss: 0.6741 - val_accuracy: 0.7514\n",
      "Epoch 46/50\n",
      "691/691 [==============================] - 2s 3ms/step - loss: 0.0570 - accuracy: 0.9870 - val_loss: 0.5627 - val_accuracy: 0.7803\n",
      "Epoch 47/50\n",
      "691/691 [==============================] - 3s 4ms/step - loss: 0.0470 - accuracy: 0.9913 - val_loss: 0.6163 - val_accuracy: 0.7572\n",
      "Epoch 48/50\n",
      "691/691 [==============================] - 3s 4ms/step - loss: 0.0501 - accuracy: 0.9928 - val_loss: 0.6228 - val_accuracy: 0.7803\n",
      "Epoch 49/50\n",
      "691/691 [==============================] - 2s 3ms/step - loss: 0.0513 - accuracy: 0.9928 - val_loss: 0.5802 - val_accuracy: 0.7861\n",
      "Epoch 50/50\n",
      "691/691 [==============================] - 2s 4ms/step - loss: 0.0385 - accuracy: 0.9986 - val_loss: 0.5944 - val_accuracy: 0.7630\n"
     ]
    }
   ],
   "source": [
    "from keras.models import Sequential\n",
    "from keras.layers.normalization import BatchNormalization\n",
    "from keras.layers.convolutional import Conv2D\n",
    "from keras.layers.convolutional import MaxPooling2D\n",
    "from keras.layers.core import Activation\n",
    "from keras.layers.core import Flatten\n",
    "from keras.layers.core import Dropout\n",
    "from keras.layers.core import Dense\n",
    "from keras.callbacks import ModelCheckpoint\n",
    "import keras\n",
    "\n",
    "EPOCHS = 50\n",
    "CONV_DIM = 128\n",
    "BATCH_SIZE = 32\n",
    "HIDDEN_DIM = 128\n",
    "INPUT_DIM = X_train.shape[1]\n",
    "inputShape = (40, 300, 1)\n",
    "chanDim = -1 \n",
    "classes = y_train.shape[1]\n",
    "\n",
    "cnn_model = Sequential()\n",
    "\n",
    "cnn_model.add(Conv2D(CONV_DIM, (3, 3), padding=\"same\", input_shape=inputShape))\n",
    "cnn_model.add(Activation(\"relu\"))\n",
    "cnn_model.add(BatchNormalization(axis=chanDim))\n",
    "cnn_model.add(MaxPooling2D(pool_size=(3, 3)))\n",
    "cnn_model.add(Dropout(0.25))\n",
    "\n",
    "# (CONV => RELU) * 2 => POOL\n",
    "cnn_model.add(Conv2D(2*CONV_DIM, (3, 3), padding=\"same\"))\n",
    "cnn_model.add(Activation(\"relu\"))\n",
    "cnn_model.add(BatchNormalization(axis=chanDim))\n",
    "cnn_model.add(Conv2D(2*CONV_DIM, (3, 3), padding=\"same\"))\n",
    "cnn_model.add(Activation(\"relu\"))\n",
    "cnn_model.add(BatchNormalization(axis=chanDim))\n",
    "cnn_model.add(MaxPooling2D(pool_size=(2, 2)))\n",
    "cnn_model.add(Dropout(0.25))\n",
    "\n",
    "# (CONV => RELU) * 2 => POOL\n",
    "# cnn_model.add(Conv2D(4*CONV_DIM, (3, 3), padding=\"same\"))\n",
    "# cnn_model.add(Activation(\"relu\"))\n",
    "# cnn_model.add(BatchNormalization(axis=chanDim))\n",
    "# cnn_model.add(Conv2D(4*CONV_DIM, (3, 3), padding=\"same\"))\n",
    "# cnn_model.add(Activation(\"relu\"))\n",
    "# cnn_model.add(BatchNormalization(axis=chanDim))\n",
    "# cnn_model.add(MaxPooling2D(pool_size=(2, 2)))\n",
    "# cnn_model.add(Dropout(0.25))\n",
    "\n",
    "# first (and only) set of FC => RELU layers\n",
    "cnn_model.add(Flatten())\n",
    "cnn_model.add(Dense(HIDDEN_DIM))\n",
    "cnn_model.add(Activation(\"relu\"))\n",
    "cnn_model.add(BatchNormalization())\n",
    "cnn_model.add(Dropout(0.5))\n",
    " \n",
    "# softmax classifier\n",
    "cnn_model.add(Dense(classes))\n",
    "cnn_model.add(Activation(\"softmax\"))\n",
    "\n",
    "Adam = keras.optimizers.Adam(learning_rate=0.0001)\n",
    "cnn_model.compile(loss=\"categorical_crossentropy\", optimizer = Adam , metrics=[\"accuracy\"])\n",
    "cnn_model.summary()\n",
    "\n",
    "# checkpoint\n",
    "filepath=\"weights_best.hdf5\"\n",
    "checkpoint = ModelCheckpoint(filepath, monitor='val_accuracy', verbose=0, save_best_only=True, mode='max')\n",
    "callbacks_list = [checkpoint]\n",
    "\n",
    "history = cnn_model.fit(X_train, y_train, batch_size = BATCH_SIZE, epochs = EPOCHS, \n",
    "                         callbacks=callbacks_list, validation_data = (X_test, y_test))"
   ]
  },
  {
   "cell_type": "markdown",
   "metadata": {},
   "source": [
    "## Load the Best Weights"
   ]
  },
  {
   "cell_type": "code",
   "execution_count": 8,
   "metadata": {},
   "outputs": [],
   "source": [
    "# load weights\n",
    "cnn_model.load_weights(\"weights_best.hdf5\")\n",
    "# Compile model (required to make predictions)\n",
    "Adam = keras.optimizers.Adam(learning_rate=0.0001)\n",
    "cnn_model.compile(loss=\"categorical_crossentropy\", optimizer= Adam, metrics=[\"accuracy\"])"
   ]
  },
  {
   "cell_type": "markdown",
   "metadata": {},
   "source": [
    "## Visualization"
   ]
  },
  {
   "cell_type": "code",
   "execution_count": 9,
   "metadata": {},
   "outputs": [
    {
     "data": {
      "image/png": "[encoded data removed]",
      "text/plain": [
       "<Figure size 432x288 with 1 Axes>"
      ]
     },
     "metadata": {
      "needs_background": "light"
     },
     "output_type": "display_data"
    },
    {
     "data": {
      "image/png": "[encoded data removed]",
      "text/plain": [
       "<Figure size 432x288 with 1 Axes>"
      ]
     },
     "metadata": {
      "needs_background": "light"
     },
     "output_type": "display_data"
    }
   ],
   "source": [
    "import matplotlib.pyplot as plt\n",
    "plt.plot(history.history['loss'])\n",
    "plt.plot(history.history['val_loss'])\n",
    "\n",
    "plt.title('model loss')\n",
    "plt.ylabel('loss')\n",
    "plt.xlabel('epoch')\n",
    "\n",
    "plt.legend(['train', 'test'], loc='upper left')\n",
    "plt.show()\n",
    "\n",
    "plt.plot(history.history['accuracy'])\n",
    "plt.plot(history.history['val_accuracy'])\n",
    "\n",
    "plt.title('model acc')\n",
    "plt.ylabel('acc')\n",
    "plt.xlabel('epoch')\n",
    "plt.legend(['train', 'test'], loc='upper left')\n",
    "plt.show()"
   ]
  },
  {
   "cell_type": "markdown",
   "metadata": {},
   "source": [
    "## Prediction"
   ]
  },
  {
   "cell_type": "code",
   "execution_count": 10,
   "metadata": {},
   "outputs": [],
   "source": [
    "def new_input(file_path):\n",
    "    X = []\n",
    "    features = extract_features(file_path)\n",
    "    X.append(features)\n",
    "    X = np.expand_dims(np.array(X), axis = 3)\n",
    "    y_pred = cnn_model.predict(X)\n",
    "\n",
    "    \n",
    "    emotion = np.argmax(y_pred[0])\n",
    "    \n",
    "    if emotion == 0:\n",
    "        print(\"Angry\")\n",
    "    if emotion == 1:\n",
    "        print(\"Happy\") \n",
    "    if emotion == 2:\n",
    "        print(\"Neutral\") \n",
    "    if emotion == 3:\n",
    "        print(\"Sad\") "
   ]
  },
  {
   "cell_type": "code",
   "execution_count": null,
   "metadata": {
    "scrolled": true
   },
   "outputs": [],
   "source": [
    "audio_path = \"User_Vocals/924/\"\n",
    "for file in glob.glob(audio_path + '/*.wav'):  \n",
    "    basename = os.path.basename(file)\n",
    "\n",
    "    y_pred = new_input(file)\n",
    "\n",
    "print(\"------ FINISH HERE ------\")"
   ]
  }
 ],
 "metadata": {
  "kernelspec": {
   "display_name": "Python 3",
   "language": "python",
   "name": "python3"
  },
  "language_info": {
   "codemirror_mode": {
    "name": "ipython",
    "version": 3
   },
   "file_extension": ".py",
   "mimetype": "text/x-python",
   "name": "python",
   "nbconvert_exporter": "python",
   "pygments_lexer": "ipython3",
   "version": "3.6.8"
  }
 },
 "nbformat": 4,
 "nbformat_minor": 2
}
